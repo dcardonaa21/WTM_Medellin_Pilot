{
 "metadata": {
  "language_info": {
   "codemirror_mode": {
    "name": "ipython",
    "version": 3
   },
   "file_extension": ".py",
   "mimetype": "text/x-python",
   "name": "python",
   "nbconvert_exporter": "python",
   "pygments_lexer": "ipython3",
   "version": "3.8.3-final"
  },
  "orig_nbformat": 2,
  "kernelspec": {
   "name": "python3",
   "display_name": "Python 3"
  }
 },
 "nbformat": 4,
 "nbformat_minor": 2,
 "cells": [
  {
   "cell_type": "code",
   "execution_count": 1,
   "metadata": {},
   "outputs": [],
   "source": [
    "import sys \n",
    "sys.path.insert(0, \"/home/dcardonaa2111/Documents/WTM_Projects/STEM_Studio\")\n",
    "sys.path.insert(1, \"/home/dcardonaa2111/Documents/WTM_Projects/Piloto_Medellin\")\n",
    "import stem_library as sl\n",
    "import libreria_piloto_medellin as lpm\n",
    "import pandas as pd"
   ]
  },
  {
   "cell_type": "code",
   "execution_count": 2,
   "metadata": {},
   "outputs": [
    {
     "output_type": "execute_result",
     "data": {
      "text/plain": [
       "\"['/home/dcardonaa2111/Documents/WTM_Projects/Piloto_Medellin/data/raw/matriculados_y_graduados/GRADUADOS-2001-2017.xlsb', '/home/dcardonaa2111/Documents/WTM_Projects/Piloto_Medellin/data/raw/matriculados_y_graduados/GRADUADOS-2018.xlsx', '/home/dcardonaa2111/Documents/WTM_Projects/Piloto_Medellin/data/raw/matriculados_y_graduados/MATRICULADOS-2014.xlsx', '/home/dcardonaa2111/Documents/WTM_Projects/Piloto_Medellin/data/raw/matriculados_y_graduados/MATRICULADOS-2015.xlsx', '/home/dcardonaa2111/Documents/WTM_Projects/Piloto_Medellin/data/raw/matriculados_y_graduados/MATRICULADOS-2016.xlsx', '/home/dcardonaa2111/Documents/WTM_Projects/Piloto_Medellin/data/raw/matriculados_y_graduados/MATRICULADOS-2017.xlsx', '/home/dcardonaa2111/Documents/WTM_Projects/Piloto_Medellin/data/raw/matriculados_y_graduados/MATRICULADOS-2018.xlsx', '/home/dcardonaa2111/Documents/WTM_Projects/Piloto_Medellin/data/raw/matriculados_y_graduados/MATRICULADOS-HASTA-2013.xlsb']\""
      ]
     },
     "metadata": {},
     "execution_count": 2
    }
   ],
   "source": [
    "lpm.download_data(\"/home/dcardonaa2111/Documents/WTM_Projects/Piloto_Medellin/data/raw/matriculados_y_graduados\")"
   ]
  },
  {
   "cell_type": "code",
   "execution_count": 2,
   "metadata": {},
   "outputs": [
    {
     "output_type": "error",
     "ename": "TypeError",
     "evalue": "unsupported operand type(s) for +: 'PosixPath' and 'str'",
     "traceback": [
      "\u001b[0;31m---------------------------------------------------------------------------\u001b[0m",
      "\u001b[0;31mTypeError\u001b[0m                                 Traceback (most recent call last)",
      "\u001b[0;32m<ipython-input-2-9bf3604716db>\u001b[0m in \u001b[0;36m<module>\u001b[0;34m\u001b[0m\n\u001b[1;32m      9\u001b[0m     \"https://storage.googleapis.com/piloto_medellin/MATRICULADOS-HASTA-2013.xlsb\"]\n\u001b[1;32m     10\u001b[0m \u001b[0;32mfor\u001b[0m \u001b[0mdata_path\u001b[0m \u001b[0;32min\u001b[0m \u001b[0mdata_path_ls\u001b[0m\u001b[0;34m:\u001b[0m\u001b[0;34m\u001b[0m\u001b[0;34m\u001b[0m\u001b[0m\n\u001b[0;32m---> 11\u001b[0;31m     \u001b[0msl\u001b[0m\u001b[0;34m.\u001b[0m\u001b[0msave_data_as_csv\u001b[0m\u001b[0;34m(\u001b[0m\u001b[0mdata_path\u001b[0m\u001b[0;34m,\u001b[0m \u001b[0;34m\"/home/dcardonaa2111/Documents/WTM_Projects/Piloto_Medellin/data/raw/CSV\"\u001b[0m\u001b[0;34m)\u001b[0m\u001b[0;34m\u001b[0m\u001b[0;34m\u001b[0m\u001b[0m\n\u001b[0m\u001b[1;32m     12\u001b[0m \u001b[0;32mfor\u001b[0m \u001b[0mdata_path\u001b[0m \u001b[0;32min\u001b[0m \u001b[0mdata_xlmb_ls\u001b[0m\u001b[0;34m:\u001b[0m\u001b[0;34m\u001b[0m\u001b[0;34m\u001b[0m\u001b[0m\n\u001b[1;32m     13\u001b[0m     \u001b[0mlpm\u001b[0m\u001b[0;34m.\u001b[0m\u001b[0msave_data_as_csv\u001b[0m\u001b[0;34m(\u001b[0m\u001b[0mdata_path\u001b[0m\u001b[0;34m,\u001b[0m \u001b[0;34m\"/home/dcardonaa2111/Documents/WTM_Projects/Piloto_Medellin/data/raw/CSV\"\u001b[0m\u001b[0;34m)\u001b[0m\u001b[0;34m\u001b[0m\u001b[0;34m\u001b[0m\u001b[0m\n",
      "\u001b[0;32m~/Documents/WTM_Projects/STEM_Studio/stem_library/funciones.py\u001b[0m in \u001b[0;36msave_data_as_csv\u001b[0;34m(data_path, save_path)\u001b[0m\n\u001b[1;32m     47\u001b[0m     \u001b[0msave_path\u001b[0m \u001b[0;34m=\u001b[0m \u001b[0mpathlib\u001b[0m\u001b[0;34m.\u001b[0m\u001b[0mPath\u001b[0m\u001b[0;34m(\u001b[0m\u001b[0msave_path\u001b[0m\u001b[0;34m)\u001b[0m\u001b[0;34m\u001b[0m\u001b[0;34m\u001b[0m\u001b[0m\n\u001b[1;32m     48\u001b[0m     \u001b[0;32mfor\u001b[0m \u001b[0mkey\u001b[0m \u001b[0;32min\u001b[0m \u001b[0mdata_dict\u001b[0m\u001b[0;34m.\u001b[0m\u001b[0mkeys\u001b[0m\u001b[0;34m(\u001b[0m\u001b[0;34m)\u001b[0m\u001b[0;34m:\u001b[0m\u001b[0;34m\u001b[0m\u001b[0;34m\u001b[0m\u001b[0m\n\u001b[0;32m---> 49\u001b[0;31m         \u001b[0mdata_dict\u001b[0m\u001b[0;34m[\u001b[0m\u001b[0mkey\u001b[0m\u001b[0;34m]\u001b[0m\u001b[0;34m.\u001b[0m\u001b[0mto_csv\u001b[0m\u001b[0;34m(\u001b[0m\u001b[0msave_path\u001b[0m \u001b[0;34m/\u001b[0m \u001b[0mkey\u001b[0m \u001b[0;34m+\u001b[0m \u001b[0;34m\".csv\"\u001b[0m\u001b[0;34m,\u001b[0m \u001b[0mindex\u001b[0m\u001b[0;34m=\u001b[0m\u001b[0;32mFalse\u001b[0m\u001b[0;34m)\u001b[0m\u001b[0;34m\u001b[0m\u001b[0;34m\u001b[0m\u001b[0m\n\u001b[0m\u001b[1;32m     50\u001b[0m     \u001b[0;32mreturn\u001b[0m\u001b[0;34m\u001b[0m\u001b[0;34m\u001b[0m\u001b[0m\n\u001b[1;32m     51\u001b[0m \u001b[0;34m\u001b[0m\u001b[0m\n",
      "\u001b[0;31mTypeError\u001b[0m: unsupported operand type(s) for +: 'PosixPath' and 'str'"
     ]
    }
   ],
   "source": [
    "data_path_ls = [\"https://storage.googleapis.com/piloto_medellin/GRADUADOS-2018.xlsx\", \n",
    "    \"https://storage.googleapis.com/piloto_medellin/MATRICULADOS-2014.xlsx\", \n",
    "    \"https://storage.googleapis.com/piloto_medellin/MATRICULADOS-2015.xlsx\", \n",
    "    \"https://storage.googleapis.com/piloto_medellin/MATRICULADOS-2016.xlsx\", \n",
    "    \"https://storage.googleapis.com/piloto_medellin/MATRICULADOS-2017.xlsx\", \n",
    "    \"https://storage.googleapis.com/piloto_medellin/MATRICULADOS-2018.xlsx\"]\n",
    "\n",
    "data_xlmb_ls = [\"https://storage.googleapis.com/piloto_medellin/GRADUADOS-2001-2017.xlsb\",  \n",
    "    \"https://storage.googleapis.com/piloto_medellin/MATRICULADOS-HASTA-2013.xlsb\"]\n",
    "for data_path in data_path_ls:\n",
    "    sl.save_data_as_csv(data_path, \"/home/dcardonaa2111/Documents/WTM_Projects/Piloto_Medellin/data/raw/CSV\")\n",
    "for data_path in data_xlmb_ls:\n",
    "    lpm.save_data_as_csv(data_path, \"/home/dcardonaa2111/Documents/WTM_Projects/Piloto_Medellin/data/raw/CSV\")"
   ]
  },
  {
   "cell_type": "code",
   "execution_count": null,
   "metadata": {},
   "outputs": [],
   "source": []
  },
  {
   "cell_type": "code",
   "execution_count": null,
   "metadata": {},
   "outputs": [],
   "source": []
  },
  {
   "cell_type": "code",
   "execution_count": null,
   "metadata": {},
   "outputs": [],
   "source": []
  },
  {
   "cell_type": "code",
   "execution_count": null,
   "metadata": {},
   "outputs": [],
   "source": []
  },
  {
   "cell_type": "code",
   "execution_count": null,
   "metadata": {},
   "outputs": [],
   "source": []
  },
  {
   "cell_type": "code",
   "execution_count": null,
   "metadata": {},
   "outputs": [],
   "source": []
  },
  {
   "cell_type": "code",
   "execution_count": null,
   "metadata": {},
   "outputs": [],
   "source": []
  },
  {
   "cell_type": "code",
   "execution_count": null,
   "metadata": {},
   "outputs": [],
   "source": []
  },
  {
   "cell_type": "code",
   "execution_count": null,
   "metadata": {},
   "outputs": [],
   "source": []
  }
 ]
}