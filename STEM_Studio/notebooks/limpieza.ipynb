{
 "metadata": {
  "language_info": {
   "codemirror_mode": {
    "name": "ipython",
    "version": 3
   },
   "file_extension": ".py",
   "mimetype": "text/x-python",
   "name": "python",
   "nbconvert_exporter": "python",
   "pygments_lexer": "ipython3",
   "version": "3.8.3-final"
  },
  "orig_nbformat": 2,
  "kernelspec": {
   "name": "python3",
   "display_name": "Python 3"
  }
 },
 "nbformat": 4,
 "nbformat_minor": 2,
 "cells": [
  {
   "cell_type": "code",
   "execution_count": 1,
   "metadata": {},
   "outputs": [],
   "source": [
    "import sys \n",
    "sys.path.insert(0, \"/home/dcardonaa2111/Documents/WTM_Projects/STEM_Studio\")\n",
    "import stem_library as sl\n",
    "import pandas as pd"
   ]
  },
  {
   "cell_type": "code",
   "execution_count": 3,
   "metadata": {},
   "outputs": [
    {
     "output_type": "execute_result",
     "data": {
      "text/plain": [
       "'/home/dcardonaa2111/Documents/WTM_Projects/STEM_Studio/data/raw/Tabla_STEM_2001_2018_v2013.xslx'"
      ]
     },
     "metadata": {},
     "execution_count": 3
    }
   ],
   "source": [
    "# sl.download_data(\"/home/dcardonaa2111/Documents/WTM_Projects/STEM_Studio/data/raw\")"
   ]
  },
  {
   "cell_type": "code",
   "execution_count": null,
   "metadata": {},
   "outputs": [],
   "source": [
    "# sl.save_data_as_csv(\"https://storage.googleapis.com/piloto_maker_kits/Data_sin_procesar_%3D(/mujeres/Tabla%20de%20STEM%202001-2018%20ET_v2013.xlsx\", \"/home/dcardonaa2111/Documents/WTM_Projects/STEM_Studio/data/raw\")"
   ]
  },
  {
   "cell_type": "code",
   "execution_count": 2,
   "metadata": {},
   "outputs": [],
   "source": [
    "stem_dict = sl.data_as_dfs_dict(\"https://storage.googleapis.com/piloto_maker_kits/Data_sin_procesar_%3D(/mujeres/Tabla%20de%20STEM%202001-2018%20ET_v2013.xlsx\")\n"
   ]
  },
  {
   "cell_type": "code",
   "execution_count": 3,
   "metadata": {},
   "outputs": [
    {
     "output_type": "stream",
     "name": "stdout",
     "text": [
      "['PROGRAMA ACADEMICO', 'NIVEL DE FORMACION', 'AREA DE CONOCIMIENTO', 'NUCLEO BASICO DEL CONOCIMIENTO (NBC)', 'SEXO', 'AÑO', 'GRADUADOS']\n"
     ]
    }
   ],
   "source": [
    "old_names_ls = ['Programa Académico', 'Nivel de Formación', 'Área de Conocimiento', 'Núcleo Básico del Conocimiento (NBC)', 'Sexo', 'Año*', 'Graduados']\n",
    "new_names_ls = sl.calligraphy_unification(old_names_ls)\n",
    "print(new_names_ls)\n"
   ]
  },
  {
   "cell_type": "code",
   "execution_count": 4,
   "metadata": {},
   "outputs": [
    {
     "output_type": "execute_result",
     "data": {
      "text/plain": [
       "dict_keys(['Genero_STEM_por_ciudades', 'DATOS_STEM_LIMPIOS_2001-2018', 'Graduados_por_carreras', 'Graduados_top_10_carreras_STEAM', 'Graduados_STEM_vs_general_nivel', 'Genero_por_STEM_por_años'])"
      ]
     },
     "metadata": {},
     "execution_count": 4
    }
   ],
   "source": [
    "# stem_dict.keys()"
   ]
  },
  {
   "cell_type": "code",
   "execution_count": 4,
   "metadata": {},
   "outputs": [],
   "source": [
    "stem_df = stem_dict['DATOS_STEM_LIMPIOS_2001-2018']"
   ]
  },
  {
   "cell_type": "code",
   "execution_count": 5,
   "metadata": {},
   "outputs": [
    {
     "output_type": "execute_result",
     "data": {
      "text/plain": [
       "Index(['Código de \\nla Institución', 'IES PADRE',\n",
       "       'Institución de Educación Superior (IES)', 'Principal\\n o\\nSeccional',\n",
       "       'ID Sector IES', 'Sector IES', 'ID Caracter', 'Caracter IES',\n",
       "       'Código del \\ndepartamento\\n(IES)',\n",
       "       'Departamento de \\ndomicilio de la IES',\n",
       "       'Código del \\nMunicipio\\n(IES)', 'Municipio de\\ndomicilio de la IES',\n",
       "       'Código \\nSNIES del\\nprograma', 'Programa Académico',\n",
       "       'ID Nivel Académico', 'Nivel Académico', 'ID Nivel de Formación',\n",
       "       'Nivel de Formación', 'ID Metodología', 'Metodología',\n",
       "       'Área de Conocimiento', 'Id_Nucleo',\n",
       "       'Núcleo Básico del Conocimiento (NBC)',\n",
       "       'Código del \\nDepartamento\\n(Programa)',\n",
       "       'Departamento de oferta del programa',\n",
       "       'Código del \\nMunicipio\\n(Programa)',\n",
       "       'Municipio de oferta del programa', 'ID Sexo', 'Sexo', 'Año*',\n",
       "       'Semestre', 'Graduados'],\n",
       "      dtype='object')"
      ]
     },
     "metadata": {},
     "execution_count": 5
    }
   ],
   "source": [
    "# stem_df.columns"
   ]
  },
  {
   "cell_type": "code",
   "execution_count": 5,
   "metadata": {},
   "outputs": [],
   "source": [
    "filtered_renamed_columns_df = sl.filter_rename_columns(stem_df, old_names_ls, new_names_ls)"
   ]
  },
  {
   "cell_type": "code",
   "execution_count": 6,
   "metadata": {},
   "outputs": [
    {
     "output_type": "execute_result",
     "data": {
      "text/plain": [
       "Index(['', '', '', '', '', '', ''], dtype='object')"
      ]
     },
     "metadata": {},
     "execution_count": 6
    }
   ],
   "source": [
    "filtered_renamed_columns_df.columns"
   ]
  },
  {
   "cell_type": "code",
   "execution_count": 7,
   "metadata": {},
   "outputs": [
    {
     "output_type": "stream",
     "name": "stdout",
     "text": [
      "['HOMBRE', 'MUJER', 'Hombre', 'Mujer']\n"
     ]
    }
   ],
   "source": [
    "a = list((stem_df['Sexo'].value_counts()).index)\n",
    "print(a)"
   ]
  },
  {
   "cell_type": "code",
   "execution_count": 8,
   "metadata": {},
   "outputs": [],
   "source": [
    "b = sl.calligraphy_unification(a)"
   ]
  },
  {
   "cell_type": "code",
   "execution_count": 8,
   "metadata": {},
   "outputs": [
    {
     "output_type": "error",
     "ename": "NameError",
     "evalue": "name 'b' is not defined",
     "traceback": [
      "\u001b[0;31m---------------------------------------------------------------------------\u001b[0m",
      "\u001b[0;31mNameError\u001b[0m                                 Traceback (most recent call last)",
      "\u001b[0;32m<ipython-input-8-75022791498a>\u001b[0m in \u001b[0;36m<module>\u001b[0;34m\u001b[0m\n\u001b[0;32m----> 1\u001b[0;31m \u001b[0msl\u001b[0m\u001b[0;34m.\u001b[0m\u001b[0mobservation_replace\u001b[0m\u001b[0;34m(\u001b[0m\u001b[0mstem_df\u001b[0m\u001b[0;34m[\u001b[0m\u001b[0;34m'Sexo'\u001b[0m\u001b[0;34m]\u001b[0m\u001b[0;34m,\u001b[0m \u001b[0ma\u001b[0m\u001b[0;34m,\u001b[0m \u001b[0mb\u001b[0m\u001b[0;34m)\u001b[0m\u001b[0;34m\u001b[0m\u001b[0;34m\u001b[0m\u001b[0m\n\u001b[0m",
      "\u001b[0;31mNameError\u001b[0m: name 'b' is not defined"
     ]
    }
   ],
   "source": [
    "sl.observation_replace(stem_df['Sexo'], a, b)"
   ]
  },
  {
   "cell_type": "code",
   "execution_count": null,
   "metadata": {},
   "outputs": [],
   "source": []
  }
 ]
}